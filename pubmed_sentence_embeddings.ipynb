{
 "cells": [
  {
   "cell_type": "code",
   "execution_count": 13,
   "outputs": [
    {
     "name": "stderr",
     "output_type": "stream",
     "text": [
      "huggingface/tokenizers: The current process just got forked, after parallelism has already been used. Disabling parallelism to avoid deadlocks...\n",
      "To disable this warning, you can either:\n",
      "\t- Avoid using `tokenizers` before the fork if possible\n",
      "\t- Explicitly set the environment variable TOKENIZERS_PARALLELISM=(true | false)\n"
     ]
    },
    {
     "name": "stdout",
     "output_type": "stream",
     "text": [
      "Requirement already satisfied: pandas in ./.venv/lib/python3.11/site-packages (2.2.2)\r\n",
      "Requirement already satisfied: pyarrow in ./.venv/lib/python3.11/site-packages (17.0.0)\r\n",
      "Requirement already satisfied: tqdm in ./.venv/lib/python3.11/site-packages (4.66.4)\r\n",
      "Requirement already satisfied: nltk in ./.venv/lib/python3.11/site-packages (3.8.1)\r\n",
      "Requirement already satisfied: sentence-transformers in ./.venv/lib/python3.11/site-packages (3.0.1)\r\n",
      "Requirement already satisfied: huggingface_hub in ./.venv/lib/python3.11/site-packages (0.24.3)\r\n",
      "Requirement already satisfied: pyyaml in ./.venv/lib/python3.11/site-packages (6.0.1)\r\n",
      "Requirement already satisfied: numpy>=1.23.2 in ./.venv/lib/python3.11/site-packages (from pandas) (2.0.1)\r\n",
      "Requirement already satisfied: python-dateutil>=2.8.2 in ./.venv/lib/python3.11/site-packages (from pandas) (2.9.0.post0)\r\n",
      "Requirement already satisfied: pytz>=2020.1 in ./.venv/lib/python3.11/site-packages (from pandas) (2024.1)\r\n",
      "Requirement already satisfied: tzdata>=2022.7 in ./.venv/lib/python3.11/site-packages (from pandas) (2024.1)\r\n",
      "Requirement already satisfied: click in ./.venv/lib/python3.11/site-packages (from nltk) (8.1.7)\r\n",
      "Requirement already satisfied: joblib in ./.venv/lib/python3.11/site-packages (from nltk) (1.4.2)\r\n",
      "Requirement already satisfied: regex>=2021.8.3 in ./.venv/lib/python3.11/site-packages (from nltk) (2024.7.24)\r\n",
      "Requirement already satisfied: transformers<5.0.0,>=4.34.0 in ./.venv/lib/python3.11/site-packages (from sentence-transformers) (4.43.3)\r\n",
      "Requirement already satisfied: torch>=1.11.0 in ./.venv/lib/python3.11/site-packages (from sentence-transformers) (2.4.0)\r\n",
      "Requirement already satisfied: scikit-learn in ./.venv/lib/python3.11/site-packages (from sentence-transformers) (1.5.1)\r\n",
      "Requirement already satisfied: scipy in ./.venv/lib/python3.11/site-packages (from sentence-transformers) (1.14.0)\r\n",
      "Requirement already satisfied: Pillow in ./.venv/lib/python3.11/site-packages (from sentence-transformers) (10.4.0)\r\n",
      "Requirement already satisfied: filelock in ./.venv/lib/python3.11/site-packages (from huggingface_hub) (3.15.4)\r\n",
      "Requirement already satisfied: fsspec>=2023.5.0 in ./.venv/lib/python3.11/site-packages (from huggingface_hub) (2024.6.1)\r\n",
      "Requirement already satisfied: packaging>=20.9 in ./.venv/lib/python3.11/site-packages (from huggingface_hub) (24.1)\r\n",
      "Requirement already satisfied: requests in ./.venv/lib/python3.11/site-packages (from huggingface_hub) (2.32.3)\r\n",
      "Requirement already satisfied: typing-extensions>=3.7.4.3 in ./.venv/lib/python3.11/site-packages (from huggingface_hub) (4.12.2)\r\n",
      "Requirement already satisfied: six>=1.5 in ./.venv/lib/python3.11/site-packages (from python-dateutil>=2.8.2->pandas) (1.16.0)\r\n",
      "Requirement already satisfied: sympy in ./.venv/lib/python3.11/site-packages (from torch>=1.11.0->sentence-transformers) (1.13.1)\r\n",
      "Requirement already satisfied: networkx in ./.venv/lib/python3.11/site-packages (from torch>=1.11.0->sentence-transformers) (3.3)\r\n",
      "Requirement already satisfied: jinja2 in ./.venv/lib/python3.11/site-packages (from torch>=1.11.0->sentence-transformers) (3.1.4)\r\n",
      "Requirement already satisfied: safetensors>=0.4.1 in ./.venv/lib/python3.11/site-packages (from transformers<5.0.0,>=4.34.0->sentence-transformers) (0.4.3)\r\n",
      "Requirement already satisfied: tokenizers<0.20,>=0.19 in ./.venv/lib/python3.11/site-packages (from transformers<5.0.0,>=4.34.0->sentence-transformers) (0.19.1)\r\n",
      "Requirement already satisfied: charset-normalizer<4,>=2 in ./.venv/lib/python3.11/site-packages (from requests->huggingface_hub) (3.3.2)\r\n",
      "Requirement already satisfied: idna<4,>=2.5 in ./.venv/lib/python3.11/site-packages (from requests->huggingface_hub) (3.7)\r\n",
      "Requirement already satisfied: urllib3<3,>=1.21.1 in ./.venv/lib/python3.11/site-packages (from requests->huggingface_hub) (2.2.2)\r\n",
      "Requirement already satisfied: certifi>=2017.4.17 in ./.venv/lib/python3.11/site-packages (from requests->huggingface_hub) (2024.7.4)\r\n",
      "Requirement already satisfied: threadpoolctl>=3.1.0 in ./.venv/lib/python3.11/site-packages (from scikit-learn->sentence-transformers) (3.5.0)\r\n",
      "Requirement already satisfied: MarkupSafe>=2.0 in ./.venv/lib/python3.11/site-packages (from jinja2->torch>=1.11.0->sentence-transformers) (2.1.5)\r\n",
      "Requirement already satisfied: mpmath<1.4,>=1.1.0 in ./.venv/lib/python3.11/site-packages (from sympy->torch>=1.11.0->sentence-transformers) (1.3.0)\r\n",
      "\r\n",
      "\u001B[1m[\u001B[0m\u001B[34;49mnotice\u001B[0m\u001B[1;39;49m]\u001B[0m\u001B[39;49m A new release of pip is available: \u001B[0m\u001B[31;49m24.0\u001B[0m\u001B[39;49m -> \u001B[0m\u001B[32;49m24.2\u001B[0m\r\n",
      "\u001B[1m[\u001B[0m\u001B[34;49mnotice\u001B[0m\u001B[1;39;49m]\u001B[0m\u001B[39;49m To update, run: \u001B[0m\u001B[32;49mpip install --upgrade pip\u001B[0m\r\n"
     ]
    }
   ],
   "source": [
    "!pip install pandas pyarrow tqdm nltk sentence-transformers huggingface_hub pyyaml\n"
   ],
   "metadata": {
    "collapsed": false,
    "ExecuteTime": {
     "end_time": "2024-07-30T16:54:41.596179Z",
     "start_time": "2024-07-30T16:54:39.623515Z"
    }
   },
   "id": "7c4973586542f9f0"
  },
  {
   "cell_type": "code",
   "execution_count": 14,
   "outputs": [
    {
     "name": "stderr",
     "output_type": "stream",
     "text": [
      "[nltk_data] Downloading package punkt to /Users/jtr4v/nltk_data...\n",
      "[nltk_data]   Package punkt is already up-to-date!\n"
     ]
    },
    {
     "data": {
      "text/plain": "True"
     },
     "execution_count": 14,
     "metadata": {},
     "output_type": "execute_result"
    }
   ],
   "source": [
    "# Import necessary libraries\n",
    "import os\n",
    "import requests\n",
    "from tqdm import tqdm\n",
    "from xml.etree import ElementTree as ET\n",
    "import pandas as pd\n",
    "import pyarrow as pa\n",
    "import pyarrow.parquet as pq\n",
    "import numpy as np\n",
    "from nltk.tokenize import sent_tokenize\n",
    "from sentence_transformers import SentenceTransformer\n",
    "from huggingface_hub import HfApi, create_repo\n",
    "import yaml\n",
    "import nltk\n",
    "\n",
    "# Download NLTK data\n",
    "nltk.download('punkt')\n"
   ],
   "metadata": {
    "collapsed": false,
    "ExecuteTime": {
     "end_time": "2024-07-30T16:54:41.605023Z",
     "start_time": "2024-07-30T16:54:41.600271Z"
    }
   },
   "id": "829144ba3dfd450a"
  },
  {
   "cell_type": "code",
   "execution_count": 15,
   "outputs": [],
   "source": [
    "# Read the PMIDs from the file\n",
    "pmid_file_path = './pmids.txt'\n",
    "with open(pmid_file_path, 'r') as f:\n",
    "    pmids = f.read().splitlines()\n"
   ],
   "metadata": {
    "collapsed": false,
    "ExecuteTime": {
     "end_time": "2024-07-30T16:54:41.608417Z",
     "start_time": "2024-07-30T16:54:41.603709Z"
    }
   },
   "id": "363e4cd840e6d77e"
  },
  {
   "cell_type": "code",
   "execution_count": 16,
   "outputs": [],
   "source": [
    "# Function to fetch a PubMed article in XML format by its PMID\n",
    "def fetch_pubmed_article(pmid):\n",
    "    url = f\"https://eutils.ncbi.nlm.nih.gov/entrez/eutils/efetch.fcgi?db=pubmed&id={pmid}&retmode=xml\"\n",
    "    response = requests.get(url)\n",
    "    if response.status_code == 200:\n",
    "        return response.content\n",
    "    else:\n",
    "        return None\n"
   ],
   "metadata": {
    "collapsed": false,
    "ExecuteTime": {
     "end_time": "2024-07-30T16:54:41.611567Z",
     "start_time": "2024-07-30T16:54:41.608104Z"
    }
   },
   "id": "82ba593571b15599"
  },
  {
   "cell_type": "code",
   "execution_count": 17,
   "outputs": [],
   "source": [
    "# Initialize the sentence transformer model\n",
    "model = SentenceTransformer('all-MiniLM-L6-v2')\n"
   ],
   "metadata": {
    "collapsed": false,
    "ExecuteTime": {
     "end_time": "2024-07-30T16:54:42.619333Z",
     "start_time": "2024-07-30T16:54:41.612242Z"
    }
   },
   "id": "82bcb60f882f9c64"
  },
  {
   "cell_type": "code",
   "execution_count": null,
   "outputs": [
    {
     "name": "stderr",
     "output_type": "stream",
     "text": [
      "Downloading PubMed Articles:   1%|          | 69/6593 [00:21<45:30,  2.39it/s]  /var/folders/vc/lfqgrrhn56d9yj5fbxbw6qr00000gt/T/ipykernel_48032/2376880522.py:21: UserWarning: PMID PMID:28187491 has an empty abstract\n",
      "  warnings.warn(f\"PMID {pmid} has an empty abstract\")\n",
      "Downloading PubMed Articles:   2%|▏         | 106/6593 [00:30<41:04,  2.63it/s]/var/folders/vc/lfqgrrhn56d9yj5fbxbw6qr00000gt/T/ipykernel_48032/2376880522.py:21: UserWarning: PMID PMID:1016976 has an empty abstract\n",
      "  warnings.warn(f\"PMID {pmid} has an empty abstract\")\n",
      "Downloading PubMed Articles:   2%|▏         | 137/6593 [00:39<38:39,  2.78it/s]/var/folders/vc/lfqgrrhn56d9yj5fbxbw6qr00000gt/T/ipykernel_48032/2376880522.py:21: UserWarning: PMID PMID:11942911 has an empty abstract\n",
      "  warnings.warn(f\"PMID {pmid} has an empty abstract\")\n",
      "Downloading PubMed Articles:   3%|▎         | 202/6593 [00:54<23:25,  4.55it/s]/var/folders/vc/lfqgrrhn56d9yj5fbxbw6qr00000gt/T/ipykernel_48032/2376880522.py:21: UserWarning: PMID PMID:1683742 has an empty abstract\n",
      "  warnings.warn(f\"PMID {pmid} has an empty abstract\")\n",
      "Downloading PubMed Articles:   5%|▍         | 319/6593 [01:28<31:29,  3.32it/s]  /var/folders/vc/lfqgrrhn56d9yj5fbxbw6qr00000gt/T/ipykernel_48032/2376880522.py:21: UserWarning: PMID PMID:2908603 has an empty abstract\n",
      "  warnings.warn(f\"PMID {pmid} has an empty abstract\")\n",
      "Downloading PubMed Articles:   5%|▌         | 344/6593 [01:34<23:11,  4.49it/s]/var/folders/vc/lfqgrrhn56d9yj5fbxbw6qr00000gt/T/ipykernel_48032/2376880522.py:21: UserWarning: PMID PMID:3990613 has an empty abstract\n",
      "  warnings.warn(f\"PMID {pmid} has an empty abstract\")\n",
      "Downloading PubMed Articles:   5%|▌         | 346/6593 [01:34<18:51,  5.52it/s]/var/folders/vc/lfqgrrhn56d9yj5fbxbw6qr00000gt/T/ipykernel_48032/2376880522.py:21: UserWarning: PMID PMID:4060747 has an empty abstract\n",
      "  warnings.warn(f\"PMID {pmid} has an empty abstract\")\n",
      "Downloading PubMed Articles:   6%|▌         | 370/6593 [01:42<24:12,  4.28it/s]  /var/folders/vc/lfqgrrhn56d9yj5fbxbw6qr00000gt/T/ipykernel_48032/2376880522.py:21: UserWarning: PMID PMID:7772169 has an empty abstract\n",
      "  warnings.warn(f\"PMID {pmid} has an empty abstract\")\n",
      "Downloading PubMed Articles:   6%|▌         | 372/6593 [01:42<19:02,  5.45it/s]/var/folders/vc/lfqgrrhn56d9yj5fbxbw6qr00000gt/T/ipykernel_48032/2376880522.py:21: UserWarning: PMID PMID:7861903 has an empty abstract\n",
      "  warnings.warn(f\"PMID {pmid} has an empty abstract\")\n",
      "Downloading PubMed Articles:   6%|▌         | 374/6593 [01:43<16:55,  6.12it/s]/var/folders/vc/lfqgrrhn56d9yj5fbxbw6qr00000gt/T/ipykernel_48032/2376880522.py:21: UserWarning: PMID PMID:7947003 has an empty abstract\n",
      "  warnings.warn(f\"PMID {pmid} has an empty abstract\")\n",
      "Downloading PubMed Articles:   7%|▋         | 471/6593 [02:12<20:45,  4.92it/s]  /var/folders/vc/lfqgrrhn56d9yj5fbxbw6qr00000gt/T/ipykernel_48032/2376880522.py:21: UserWarning: PMID PMID:13678886 has an empty abstract\n",
      "  warnings.warn(f\"PMID {pmid} has an empty abstract\")\n",
      "Downloading PubMed Articles:   7%|▋         | 488/6593 [02:18<24:46,  4.11it/s]/var/folders/vc/lfqgrrhn56d9yj5fbxbw6qr00000gt/T/ipykernel_48032/2376880522.py:21: UserWarning: PMID PMID:34421614 has an empty abstract\n",
      "  warnings.warn(f\"PMID {pmid} has an empty abstract\")\n",
      "Downloading PubMed Articles:   8%|▊         | 538/6593 [02:34<19:54,  5.07it/s]  /var/folders/vc/lfqgrrhn56d9yj5fbxbw6qr00000gt/T/ipykernel_48032/2376880522.py:21: UserWarning: PMID PMID:31987274 has an empty abstract\n",
      "  warnings.warn(f\"PMID {pmid} has an empty abstract\")\n",
      "Downloading PubMed Articles:   8%|▊         | 540/6593 [02:35<25:01,  4.03it/s]/var/folders/vc/lfqgrrhn56d9yj5fbxbw6qr00000gt/T/ipykernel_48032/2376880522.py:21: UserWarning: PMID PMID:35593795 has an empty abstract\n",
      "  warnings.warn(f\"PMID {pmid} has an empty abstract\")\n",
      "Downloading PubMed Articles:   8%|▊         | 549/6593 [02:36<25:46,  3.91it/s]/var/folders/vc/lfqgrrhn56d9yj5fbxbw6qr00000gt/T/ipykernel_48032/2376880522.py:21: UserWarning: PMID PMID:33042272 has an empty abstract\n",
      "  warnings.warn(f\"PMID {pmid} has an empty abstract\")\n",
      "Downloading PubMed Articles:   8%|▊         | 551/6593 [02:37<19:39,  5.12it/s]/var/folders/vc/lfqgrrhn56d9yj5fbxbw6qr00000gt/T/ipykernel_48032/2376880522.py:21: UserWarning: PMID PMID:33410889 has an empty abstract\n",
      "  warnings.warn(f\"PMID {pmid} has an empty abstract\")\n",
      "Downloading PubMed Articles:   9%|▊         | 562/6593 [02:40<26:14,  3.83it/s]/var/folders/vc/lfqgrrhn56d9yj5fbxbw6qr00000gt/T/ipykernel_48032/2376880522.py:21: UserWarning: PMID PMID:35553753 has an empty abstract\n",
      "  warnings.warn(f\"PMID {pmid} has an empty abstract\")\n",
      "Downloading PubMed Articles:   9%|▉         | 584/6593 [02:45<28:00,  3.58it/s]/var/folders/vc/lfqgrrhn56d9yj5fbxbw6qr00000gt/T/ipykernel_48032/2376880522.py:21: UserWarning: PMID PMID:11050920 has an empty abstract\n",
      "  warnings.warn(f\"PMID {pmid} has an empty abstract\")\n",
      "Downloading PubMed Articles:  10%|▉         | 637/6593 [03:01<21:43,  4.57it/s]  /var/folders/vc/lfqgrrhn56d9yj5fbxbw6qr00000gt/T/ipykernel_48032/2376880522.py:21: UserWarning: PMID PMID:15656346 has an empty abstract\n",
      "  warnings.warn(f\"PMID {pmid} has an empty abstract\")\n",
      "Downloading PubMed Articles:  10%|▉         | 657/6593 [03:05<21:07,  4.68it/s]/var/folders/vc/lfqgrrhn56d9yj5fbxbw6qr00000gt/T/ipykernel_48032/2376880522.py:21: UserWarning: PMID PMID:6896473 has an empty abstract\n",
      "  warnings.warn(f\"PMID {pmid} has an empty abstract\")\n",
      "Downloading PubMed Articles:  11%|█         | 698/6593 [03:19<40:57,  2.40it/s]  /var/folders/vc/lfqgrrhn56d9yj5fbxbw6qr00000gt/T/ipykernel_48032/2376880522.py:21: UserWarning: PMID PMID:5012848 has an empty abstract\n",
      "  warnings.warn(f\"PMID {pmid} has an empty abstract\")\n",
      "Downloading PubMed Articles:  11%|█         | 699/6593 [03:20<1:03:25,  1.55it/s]/var/folders/vc/lfqgrrhn56d9yj5fbxbw6qr00000gt/T/ipykernel_48032/2376880522.py:21: UserWarning: PMID PMID:13644254 has an empty abstract\n",
      "  warnings.warn(f\"PMID {pmid} has an empty abstract\")\n",
      "Downloading PubMed Articles:  11%|█▏        | 748/6593 [03:33<22:28,  4.33it/s]  /var/folders/vc/lfqgrrhn56d9yj5fbxbw6qr00000gt/T/ipykernel_48032/2376880522.py:21: UserWarning: PMID PMID:33390801 has an empty abstract\n",
      "  warnings.warn(f\"PMID {pmid} has an empty abstract\")\n",
      "Downloading PubMed Articles:  13%|█▎        | 837/6593 [03:56<25:02,  3.83it/s]  /var/folders/vc/lfqgrrhn56d9yj5fbxbw6qr00000gt/T/ipykernel_48032/2376880522.py:21: UserWarning: PMID PMID:7563172 has an empty abstract\n",
      "  warnings.warn(f\"PMID {pmid} has an empty abstract\")\n",
      "Downloading PubMed Articles:  13%|█▎        | 860/6593 [04:05<43:22,  2.20it/s]/var/folders/vc/lfqgrrhn56d9yj5fbxbw6qr00000gt/T/ipykernel_48032/2376880522.py:21: UserWarning: PMID PMID:26935538 has an empty abstract\n",
      "  warnings.warn(f\"PMID {pmid} has an empty abstract\")\n",
      "Downloading PubMed Articles:  13%|█▎        | 872/6593 [04:10<58:20,  1.63it/s]/var/folders/vc/lfqgrrhn56d9yj5fbxbw6qr00000gt/T/ipykernel_48032/2376880522.py:21: UserWarning: PMID PMID:31565830 has an empty abstract\n",
      "  warnings.warn(f\"PMID {pmid} has an empty abstract\")\n",
      "Downloading PubMed Articles:  14%|█▍        | 926/6593 [04:45<1:03:01,  1.50it/s]/var/folders/vc/lfqgrrhn56d9yj5fbxbw6qr00000gt/T/ipykernel_48032/2376880522.py:21: UserWarning: PMID PMID:34900981 has an empty abstract\n",
      "  warnings.warn(f\"PMID {pmid} has an empty abstract\")\n",
      "Downloading PubMed Articles:  15%|█▍        | 980/6593 [05:16<58:19,  1.60it/s]  /var/folders/vc/lfqgrrhn56d9yj5fbxbw6qr00000gt/T/ipykernel_48032/2376880522.py:21: UserWarning: PMID PMID:33854437 has an empty abstract\n",
      "  warnings.warn(f\"PMID {pmid} has an empty abstract\")\n",
      "Downloading PubMed Articles:  15%|█▌        | 989/6593 [05:21<49:40,  1.88it/s]  /var/folders/vc/lfqgrrhn56d9yj5fbxbw6qr00000gt/T/ipykernel_48032/2376880522.py:21: UserWarning: PMID PMID:34490047 has an empty abstract\n",
      "  warnings.warn(f\"PMID {pmid} has an empty abstract\")\n",
      "Downloading PubMed Articles:  15%|█▌        | 996/6593 [05:25<1:04:49,  1.44it/s]/var/folders/vc/lfqgrrhn56d9yj5fbxbw6qr00000gt/T/ipykernel_48032/2376880522.py:21: UserWarning: PMID PMID:31592109 has an empty abstract\n",
      "  warnings.warn(f\"PMID {pmid} has an empty abstract\")\n",
      "Downloading PubMed Articles:  16%|█▌        | 1044/6593 [05:57<52:28,  1.76it/s]  /var/folders/vc/lfqgrrhn56d9yj5fbxbw6qr00000gt/T/ipykernel_48032/2376880522.py:21: UserWarning: PMID PMID:34751591 has an empty abstract\n",
      "  warnings.warn(f\"PMID {pmid} has an empty abstract\")\n",
      "Downloading PubMed Articles:  16%|█▌        | 1060/6593 [06:05<1:06:47,  1.38it/s]/var/folders/vc/lfqgrrhn56d9yj5fbxbw6qr00000gt/T/ipykernel_48032/2376880522.py:21: UserWarning: PMID PMID:3131240 has an empty abstract\n",
      "  warnings.warn(f\"PMID {pmid} has an empty abstract\")\n",
      "Downloading PubMed Articles:  16%|█▌        | 1069/6593 [06:08<47:09,  1.95it/s]  /var/folders/vc/lfqgrrhn56d9yj5fbxbw6qr00000gt/T/ipykernel_48032/2376880522.py:21: UserWarning: PMID PMID:26935012 has an empty abstract\n",
      "  warnings.warn(f\"PMID {pmid} has an empty abstract\")\n",
      "Downloading PubMed Articles:  17%|█▋        | 1136/6593 [06:53<1:16:24,  1.19it/s]/var/folders/vc/lfqgrrhn56d9yj5fbxbw6qr00000gt/T/ipykernel_48032/2376880522.py:21: UserWarning: PMID PMID:32707827 has an empty abstract\n",
      "  warnings.warn(f\"PMID {pmid} has an empty abstract\")\n",
      "Downloading PubMed Articles:  18%|█▊        | 1170/6593 [07:37<35:32,  2.54it/s]  /var/folders/vc/lfqgrrhn56d9yj5fbxbw6qr00000gt/T/ipykernel_48032/2376880522.py:21: UserWarning: PMID PMID:15642182 has an empty abstract\n",
      "  warnings.warn(f\"PMID {pmid} has an empty abstract\")\n",
      "Downloading PubMed Articles:  18%|█▊        | 1171/6593 [07:37<29:47,  3.03it/s]/var/folders/vc/lfqgrrhn56d9yj5fbxbw6qr00000gt/T/ipykernel_48032/2376880522.py:21: UserWarning: PMID PMID:20030877 has an empty abstract\n",
      "  warnings.warn(f\"PMID {pmid} has an empty abstract\")\n",
      "Downloading PubMed Articles:  19%|█▊        | 1229/6593 [08:08<1:08:35,  1.30it/s]/var/folders/vc/lfqgrrhn56d9yj5fbxbw6qr00000gt/T/ipykernel_48032/2376880522.py:21: UserWarning: PMID PMID:12786853 has an empty abstract\n",
      "  warnings.warn(f\"PMID {pmid} has an empty abstract\")\n",
      "Downloading PubMed Articles:  19%|█▉        | 1239/6593 [08:15<53:02,  1.68it/s]  /var/folders/vc/lfqgrrhn56d9yj5fbxbw6qr00000gt/T/ipykernel_48032/2376880522.py:21: UserWarning: PMID PMID:32136111 has an empty abstract\n",
      "  warnings.warn(f\"PMID {pmid} has an empty abstract\")\n",
      "Downloading PubMed Articles:  19%|█▉        | 1246/6593 [08:18<1:04:28,  1.38it/s]/var/folders/vc/lfqgrrhn56d9yj5fbxbw6qr00000gt/T/ipykernel_48032/2376880522.py:21: UserWarning: PMID PMID:34860884 has an empty abstract\n",
      "  warnings.warn(f\"PMID {pmid} has an empty abstract\")\n",
      "Downloading PubMed Articles:  19%|█▉        | 1255/6593 [08:32<1:51:15,  1.25s/it]/var/folders/vc/lfqgrrhn56d9yj5fbxbw6qr00000gt/T/ipykernel_48032/2376880522.py:21: UserWarning: PMID PMID:32120753 has an empty abstract\n",
      "  warnings.warn(f\"PMID {pmid} has an empty abstract\")\n",
      "Downloading PubMed Articles:  19%|█▉        | 1256/6593 [08:32<1:22:06,  1.08it/s]/var/folders/vc/lfqgrrhn56d9yj5fbxbw6qr00000gt/T/ipykernel_48032/2376880522.py:21: UserWarning: PMID PMID:32177944 has an empty abstract\n",
      "  warnings.warn(f\"PMID {pmid} has an empty abstract\")\n",
      "Downloading PubMed Articles:  19%|█▉        | 1258/6593 [08:33<1:15:00,  1.19it/s]/var/folders/vc/lfqgrrhn56d9yj5fbxbw6qr00000gt/T/ipykernel_48032/2376880522.py:21: UserWarning: PMID PMID:32436244 has an empty abstract\n",
      "  warnings.warn(f\"PMID {pmid} has an empty abstract\")\n",
      "Downloading PubMed Articles:  19%|█▉        | 1260/6593 [08:34<55:51,  1.59it/s]  /var/folders/vc/lfqgrrhn56d9yj5fbxbw6qr00000gt/T/ipykernel_48032/2376880522.py:21: UserWarning: PMID PMID:33300953 has an empty abstract\n",
      "  warnings.warn(f\"PMID {pmid} has an empty abstract\")\n",
      "Downloading PubMed Articles:  19%|█▉        | 1266/6593 [09:09<9:00:03,  6.08s/it] /var/folders/vc/lfqgrrhn56d9yj5fbxbw6qr00000gt/T/ipykernel_48032/2376880522.py:21: UserWarning: PMID PMID:34867401 has an empty abstract\n",
      "  warnings.warn(f\"PMID {pmid} has an empty abstract\")\n",
      "Downloading PubMed Articles:  19%|█▉        | 1275/6593 [09:39<2:49:09,  1.91s/it] /var/folders/vc/lfqgrrhn56d9yj5fbxbw6qr00000gt/T/ipykernel_48032/2376880522.py:21: UserWarning: PMID PMID:20032127 has an empty abstract\n",
      "  warnings.warn(f\"PMID {pmid} has an empty abstract\")\n",
      "Downloading PubMed Articles:  20%|█▉        | 1293/6593 [09:55<1:34:52,  1.07s/it]/var/folders/vc/lfqgrrhn56d9yj5fbxbw6qr00000gt/T/ipykernel_48032/2376880522.py:21: UserWarning: PMID PMID:35100699 has an empty abstract\n",
      "  warnings.warn(f\"PMID {pmid} has an empty abstract\")\n",
      "Downloading PubMed Articles:  20%|██        | 1349/6593 [11:37<46:21,  1.89it/s]   /var/folders/vc/lfqgrrhn56d9yj5fbxbw6qr00000gt/T/ipykernel_48032/2376880522.py:21: UserWarning: PMID PMID:29665663 has an empty abstract\n",
      "  warnings.warn(f\"PMID {pmid} has an empty abstract\")\n",
      "Downloading PubMed Articles:  21%|██        | 1363/6593 [11:47<1:37:15,  1.12s/it]/var/folders/vc/lfqgrrhn56d9yj5fbxbw6qr00000gt/T/ipykernel_48032/2376880522.py:21: UserWarning: PMID PMID:36476018 has an empty abstract\n",
      "  warnings.warn(f\"PMID {pmid} has an empty abstract\")\n",
      "Downloading PubMed Articles:  21%|██        | 1385/6593 [11:59<51:41,  1.68it/s]  /var/folders/vc/lfqgrrhn56d9yj5fbxbw6qr00000gt/T/ipykernel_48032/2376880522.py:21: UserWarning: PMID PMID:9260607 has an empty abstract\n",
      "  warnings.warn(f\"PMID {pmid} has an empty abstract\")\n",
      "Downloading PubMed Articles:  21%|██        | 1393/6593 [12:03<1:00:35,  1.43it/s]/var/folders/vc/lfqgrrhn56d9yj5fbxbw6qr00000gt/T/ipykernel_48032/2376880522.py:21: UserWarning: PMID PMID:6810311 has an empty abstract\n",
      "  warnings.warn(f\"PMID {pmid} has an empty abstract\")\n",
      "Downloading PubMed Articles:  21%|██▏       | 1412/6593 [12:19<1:53:41,  1.32s/it]/var/folders/vc/lfqgrrhn56d9yj5fbxbw6qr00000gt/T/ipykernel_48032/2376880522.py:21: UserWarning: PMID PMID:9543620 has an empty abstract\n",
      "  warnings.warn(f\"PMID {pmid} has an empty abstract\")\n",
      "Downloading PubMed Articles:  22%|██▏       | 1428/6593 [12:44<3:29:27,  2.43s/it]/var/folders/vc/lfqgrrhn56d9yj5fbxbw6qr00000gt/T/ipykernel_48032/2376880522.py:21: UserWarning: PMID PMID:427373 has an empty abstract\n",
      "  warnings.warn(f\"PMID {pmid} has an empty abstract\")\n",
      "Downloading PubMed Articles:  22%|██▏       | 1429/6593 [12:45<2:50:24,  1.98s/it]/var/folders/vc/lfqgrrhn56d9yj5fbxbw6qr00000gt/T/ipykernel_48032/2376880522.py:21: UserWarning: PMID PMID:5083054 has an empty abstract\n",
      "  warnings.warn(f\"PMID {pmid} has an empty abstract\")\n",
      "Downloading PubMed Articles:  22%|██▏       | 1450/6593 [14:14<16:43:50, 11.71s/it]"
     ]
    }
   ],
   "source": [
    "# Fetch articles and process them\n",
    "pmid_list = []\n",
    "sentence_list = []\n",
    "embedding_list = []\n",
    "\n",
    "for pmid in tqdm(pmids, desc=\"Downloading PubMed Articles\"):\n",
    "    article_xml = fetch_pubmed_article(pmid)\n",
    "    if article_xml:\n",
    "        # Parse the XML to extract the abstract\n",
    "        root = ET.fromstring(article_xml)\n",
    "        abstract_texts = root.findall(\".//AbstractText\")\n",
    "        try:\n",
    "            abstract = \" \".join(abstract_text.text for abstract_text in abstract_texts if abstract_text.text is not None)\n",
    "        except TypeError:\n",
    "            import warnings\n",
    "            warnings.warn(f\"PMID {pmid} has no abstract\")\n",
    "            continue\n",
    "        \n",
    "        if not abstract.strip():\n",
    "            import warnings\n",
    "            warnings.warn(f\"PMID {pmid} has an empty abstract\")\n",
    "            continue\n",
    "\n",
    "        # Tokenize the abstract into sentences\n",
    "        sentences = sent_tokenize(abstract)\n",
    "        \n",
    "        if not sentences:\n",
    "            import warnings\n",
    "            warnings.warn(f\"PMID {pmid} resulted in empty sentences after tokenization\")\n",
    "            continue\n",
    "\n",
    "        # Generate embeddings for each sentence\n",
    "        embeddings = model.encode(sentences)\n",
    "        \n",
    "        # Store the PMIDs, sentences, and embeddings\n",
    "        pmid_list.extend([pmid] * len(sentences))\n",
    "        sentence_list.extend(sentences)\n",
    "        embedding_list.extend(embeddings)\n",
    "\n",
    "# Create a DataFrame with PMIDs, sentences, and embeddings\n",
    "data = {'PMID': pmid_list, 'sentence': sentence_list, 'embedding': embedding_list}\n",
    "df = pd.DataFrame(data)\n",
    "\n",
    "# Save the DataFrame to Parquet format\n",
    "parquet_file_path = './data/sentence_embeddings.parquet'\n",
    "df.to_parquet(parquet_file_path, engine='pyarrow', index=False)\n",
    "\n",
    "print(f\"Embeddings saved to {parquet_file_path}\")"
   ],
   "metadata": {
    "collapsed": false,
    "is_executing": true,
    "ExecuteTime": {
     "start_time": "2024-07-30T16:54:42.637134Z"
    }
   },
   "id": "7802adc94111daf7"
  },
  {
   "cell_type": "code",
   "execution_count": null,
   "outputs": [],
   "source": [
    "# Generate metadata in venomx format\n",
    "metadata = {\n",
    "    'description': 'Embeddings of each sentence in the abstracts of about 6000 selected PubMed articles. Github repo with jupyter notebook and data files is here: https://github.com/justaddcoffee/embed_pubmed',\n",
    "    'prefixes': {\n",
    "        'PMID': 'https://pubmed.ncbi.nlm.nih.gov/PMID_'\n",
    "    },\n",
    "    'model': {\n",
    "        'name': 'all-MiniLM-L6-v2'\n",
    "    },\n",
    "    'dataset': {\n",
    "        'name': 'Pubmed July 2024',\n",
    "        'url': 'https://huggingface.co/biomedical-translator/pubmed_sentence_embeddings'\n",
    "    }\n",
    "}\n",
    "\n",
    "# Save the metadata to a YAML file\n",
    "metadata_file_path = './data/metadata.yaml'\n",
    "with open(metadata_file_path, 'w') as f:\n",
    "    yaml.dump(metadata, f)\n",
    "\n",
    "print(f\"Metadata saved to {metadata_file_path}\")"
   ],
   "metadata": {
    "collapsed": false,
    "is_executing": true
   },
   "id": "eea4fe2a4bdae560"
  },
  {
   "cell_type": "code",
   "execution_count": null,
   "id": "3ca37dc6",
   "metadata": {
    "is_executing": true
   },
   "outputs": [],
   "source": [
    "# Upload to Hugging Face\n",
    "repo_id = \"biomedical-translator/pubmed_sentence_embeddings\"\n",
    "create_repo(repo_id, repo_type=\"dataset\")\n",
    "\n",
    "this_notebook_path = \"pubmed_sentence_embeddings.ipynb\"\n",
    "\n",
    "api = HfApi()\n",
    "files_to_upload = [parquet_file_path, metadata_file_path, this_notebook_path]\n",
    "\n",
    "for file in files_to_upload:\n",
    "    api.upload_file(\n",
    "        path_or_fileobj=file,\n",
    "        path_in_repo=file,\n",
    "        repo_id=repo_id,\n",
    "        repo_type=\"dataset\"\n",
    "    )\n",
    "\n",
    "print(f\"Files uploaded to Hugging Face in repository: {repo_id}\")\n"
   ]
  }
 ],
 "metadata": {
  "kernelspec": {
   "name": "python3",
   "language": "python",
   "display_name": "Python 3 (ipykernel)"
  }
 },
 "nbformat": 4,
 "nbformat_minor": 5
}
